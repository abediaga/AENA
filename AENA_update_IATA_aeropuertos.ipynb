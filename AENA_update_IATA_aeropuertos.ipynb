{
 "cells": [
  {
   "cell_type": "code",
   "execution_count": 21,
   "metadata": {},
   "outputs": [],
   "source": [
    "import requests\n",
    "from bs4 import BeautifulSoup\n",
    "import re\n",
    "import urllib.request\n",
    "import json\n",
    "import os\n",
    "from datetime import datetime"
   ]
  },
  {
   "cell_type": "code",
   "execution_count": 22,
   "metadata": {},
   "outputs": [],
   "source": [
    "url_AENA_IATA_aeropuertos = \"https://raw.githubusercontent.com/abediaga/AENA/main/AENA_IATA_aeropuertos.json\"\n",
    "\n",
    "with urllib.request.urlopen(url_AENA_IATA_aeropuertos) as url:\n",
    "    aeropuertos = json.loads(url.read().decode())"
   ]
  },
  {
   "cell_type": "code",
   "execution_count": 23,
   "metadata": {},
   "outputs": [],
   "source": [
    "url = \"http://www.aena.es/es/aerolineas/red-aeropuertos.html\"\n",
    "response = requests.get(url)\n",
    "soup = BeautifulSoup(response.text, 'html.parser')\n",
    "\n",
    "contenido = soup.find_all(\"div\", {\"class\": \"datos_interes\"})\n",
    "\n",
    "has_changed = False\n",
    "\n",
    "if len(contenido) == 2 :\n",
    "    div_aeropuertos = contenido[1]\n",
    "    \n",
    "    a_aeropuertos = div_aeropuertos.findAll(\"a\")\n",
    "    \n",
    "    for a_aeropuerto in a_aeropuertos:\n",
    "        #print(a_aeropuerto.text.strip().partition(\"(\"))\n",
    "        #print(a_aeropuerto.text[a_aeropuerto.text.find(\"(\")+1:a_aeropuerto.text.find(\")\")])\n",
    "        sep = '\\((.*?)\\)'\n",
    "        nombre = re.split(sep,a_aeropuerto.text,1)[0].strip().upper()\n",
    "        codigo_IATA = re.split(sep,a_aeropuerto.text,1)[1].strip()\n",
    "        \n",
    "        if codigo_IATA in aeropuertos:\n",
    "            otros_nombres = []\n",
    "            if \"Otros\" in aeropuertos[codigo_IATA]:\n",
    "                otros_nombres = aeropuertos[codigo_IATA][\"Otros\"]\n",
    "            if (nombre != aeropuertos[codigo_IATA][\"Nombre\"]) and (nombre not in otros_nombres):\n",
    "                print(\"Nombre del aeropuerto nuevo <\" + str(nombre) + \"> sobre un código IATA existente.\")\n",
    "                #Añadimos el nombre del aeropuerto como nombre principal y pasamos el nombre principal antiguo como otro nombre\n",
    "                if \"Otros\" in aeropuertos[codigo_IATA]:\n",
    "                    aeropuertos[codigo_IATA][\"Otros\"].append(aeropuertos[codigo_IATA][\"Nombre\"])\n",
    "                else:\n",
    "                    aeropuertos[codigo_IATA][\"Otros\"] = []\n",
    "                    aeropuertos[codigo_IATA][\"Otros\"].append(aeropuertos[codigo_IATA][\"Nombre\"])\n",
    "                aeropuertos[codigo_IATA][\"Nombre\"] = nombre\n",
    "                has_changed = True\n",
    "        else:\n",
    "            #Añadimos el aeropuerto a la VARIABLE aeropuertos\n",
    "            print(\"El aeropuerto \" + str(nombre) + \" no existe. Se añade a la base de datos.\")\n",
    "            aeropuertos[codigo_IATA] = {}\n",
    "            aeropuertos[codigo_IATA][\"Nombre\"] = nombre\n",
    "            has_changed = True"
   ]
  },
  {
   "cell_type": "code",
   "execution_count": 25,
   "metadata": {},
   "outputs": [
    {
     "name": "stdout",
     "output_type": "stream",
     "text": [
      "No hay que actualizar el fichero JSON\n"
     ]
    }
   ],
   "source": [
    "if has_changed:\n",
    "    print(\"Actualizar el fichero JSON\")\n",
    "    today = datetime.today().strftime('%Y-%m-%d')\n",
    "    os.rename(r'AENA_IATA_aeropuertos.json',r'AENA_IATA_aeropuertos_\" + str(today) + \".json')\n",
    "    with open('AENA_IATA_aeropuertos.json', 'w') as file:\n",
    "        json.dump(aeropuertos, file)\n",
    "else:\n",
    "    print(\"No hay que actualizar el fichero JSON\")"
   ]
  },
  {
   "cell_type": "code",
   "execution_count": null,
   "metadata": {},
   "outputs": [],
   "source": [
    "\n"
   ]
  }
 ],
 "metadata": {
  "kernelspec": {
   "display_name": "Python 3",
   "language": "python",
   "name": "python3"
  },
  "language_info": {
   "codemirror_mode": {
    "name": "ipython",
    "version": 3
   },
   "file_extension": ".py",
   "mimetype": "text/x-python",
   "name": "python",
   "nbconvert_exporter": "python",
   "pygments_lexer": "ipython3",
   "version": "3.7.1"
  }
 },
 "nbformat": 4,
 "nbformat_minor": 4
}
