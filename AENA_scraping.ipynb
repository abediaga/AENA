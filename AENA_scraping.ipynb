{
 "cells": [
  {
   "cell_type": "code",
   "execution_count": null,
   "metadata": {},
   "outputs": [],
   "source": [
    "import urllib.request\n",
    "import json\n",
    "import requests\n",
    "from bs4 import BeautifulSoup\n",
    "import datetime\n",
    "import time\n",
    "import pandas as pd\n",
    "import xlrd as xl\n",
    "import numpy\n",
    "import os"
   ]
  },
  {
   "cell_type": "code",
   "execution_count": null,
   "metadata": {},
   "outputs": [],
   "source": [
    "ano_inicio = 2004\n",
    "#ano_inicio = 2021\n",
    "now = datetime.datetime.now()\n",
    "ano_actual = now.year\n",
    "\n",
    "main_url = \"https://wwwssl.aena.es/\""
   ]
  },
  {
   "cell_type": "code",
   "execution_count": null,
   "metadata": {},
   "outputs": [],
   "source": [
    "url_AENA_IATA_aeropuertos = \"https://raw.githubusercontent.com/abediaga/AENA/main/AENA_IATA_aeropuertos.json\"\n",
    "file_name = \"AENA_IATA_aeropuertos.json\"\n",
    "\n",
    "urllib.request.urlretrieve(url_AENA_IATA_aeropuertos, file_name)\n",
    "\n",
    "aeropuertos_ = {}\n",
    "\n",
    "with open('AENA_IATA_aeropuertos.json') as f:\n",
    "    aeropuertos = json.load(f)\n",
    "\n",
    "\n",
    "for aero_key, aero_value in aeropuertos.items():\n",
    "    #aeropuertos_[aero_key] = aero_value[\"Nombre\"]\n",
    "    aeropuertos_[aero_value[\"Nombre\"]] = aero_key\n",
    "    if \"Otros\" in aero_value.keys():\n",
    "        #print(aero_value[\"Otros\"])\n",
    "        for item in aero_value[\"Otros\"]:\n",
    "            #print(item)\n",
    "            #aeropuertos_[aero_key] = str(item)\n",
    "            aeropuertos_[str(item)] = aero_key\n"
   ]
  },
  {
   "cell_type": "code",
   "execution_count": null,
   "metadata": {},
   "outputs": [],
   "source": [
    "links_excels_AENA = {}\n",
    "\n",
    "url_base = \"https://www.aena.es\"\n",
    "\n",
    "for ano in range(ano_inicio,ano_actual+1):\n",
    "    print(ano)\n",
    "    url = \"https://www.aena.es/es/estadisticas/informes-mensuales.html?anio=\" + str(ano)\n",
    "    print(url)\n",
    "    response = requests.get(url)\n",
    "    \n",
    "    soup = BeautifulSoup(response.text, 'html.parser')\n",
    "    contenido = soup.find_all(\"div\", {\"class\": \"informes\"})\n",
    "    for elemento in contenido:\n",
    "        if len(contenido) > 0:\n",
    "            contenido2 = elemento.find_all(\"p\", {\"class\": \"h5 grueso bold\"})\n",
    "            if len(contenido2) > 0:\n",
    "                mes = contenido2[0].text\n",
    "                #print(mes)\n",
    "            \n",
    "            contenido3 = elemento.find_all(\"div\", {\"class\": \"descargas\"})\n",
    "            if len(contenido3) > 0:\n",
    "                for elemento2 in contenido3:\n",
    "                    contenido4 = elemento2.findAll(\"a\")\n",
    "                    if len(contenido4) > 0:\n",
    "                        link = contenido4[1]['href']       \n",
    "        #print(\"======\")\n",
    "        if ano in links_excels_AENA:\n",
    "            links_excels_AENA[ano][mes] = url_base+link    \n",
    "        else :\n",
    "            links_excels_AENA[ano] = {}\n",
    "            links_excels_AENA[ano][mes] = url_base+link\n",
    "    "
   ]
  },
  {
   "cell_type": "code",
   "execution_count": null,
   "metadata": {},
   "outputs": [],
   "source": [
    "index = []\n",
    "for ano in links_excels_AENA:\n",
    "    for mes in links_excels_AENA[ano]:\n",
    "        tupla = (ano, mes)\n",
    "        index.append(tupla)\n",
    "\n",
    "df_index = pd.MultiIndex.from_tuples(index, names=('Año', 'Mes'))\n",
    "\n",
    "df_AENA_pasajeros = pd.DataFrame(columns=[], index=df_index)\n",
    "df_AENA_operaciones = pd.DataFrame(columns=[], index=df_index)\n",
    "df_AENA_mercancias = pd.DataFrame(columns=[], index=df_index)"
   ]
  },
  {
   "cell_type": "code",
   "execution_count": null,
   "metadata": {},
   "outputs": [],
   "source": [
    "for ano in links_excels_AENA:\n",
    "    print(ano)\n",
    "    for mes in links_excels_AENA[ano]:\n",
    "        #print(mes)\n",
    "        file = requests.get(links_excels_AENA[ano][mes])\n",
    "        filename = 'aena_temp.xls'\n",
    "        open(filename, 'wb').write(file.content)\n",
    "        \n",
    "        Workbook = xl.open_workbook(filename)\n",
    "        sheets = Workbook.sheet_names()\n",
    "        hoja_seleccionada = \"\"\n",
    "        \n",
    "        for sheet in sheets:\n",
    "            if (\"TRÁFICO\" in sheet) or (\"TRAFICO\" in sheet):\n",
    "                hoja_seleccionada = sheet\n",
    "        if hoja_seleccionada == \"\":\n",
    "                hoja_seleccionada = sheets[0]\n",
    "        \n",
    "        if (ano < 2009):\n",
    "            df = pd.read_excel(filename, sheet_name=hoja_seleccionada, skiprows=[1,2,3,4,5], usecols=[1,2,5,6,9,10], header=1)\n",
    "        if (ano == 2009):\n",
    "            if mes == \"Enero\":\n",
    "                df = pd.read_excel(filename, sheet_name=hoja_seleccionada, skiprows=[1,2,3,4,5,6,7], usecols=[2,4,7,8,11,12], header=1)\n",
    "            else:\n",
    "                df = pd.read_excel(filename, sheet_name=hoja_seleccionada, skiprows=[1,2,3,4,5,6,7,8], usecols=[2,4,7,8,11,12], header=1)\n",
    "        if (ano == 2010):\n",
    "            df = pd.read_excel(filename, sheet_name=hoja_seleccionada, skiprows=[1,2,3,4,5,6,7], usecols=[2,4,7,8,11,12], header=1)\n",
    "        if (ano == 2011) or (ano == 2012):\n",
    "            df = pd.read_excel(filename, sheet_name=hoja_seleccionada, skiprows=[1,2,3,4,5,6], usecols=[2,4,7,8,11,12], header=1)\n",
    "        if (ano == 2013):\n",
    "            if mes == \"Enero\":\n",
    "                df = pd.read_excel(filename, sheet_name=hoja_seleccionada, skiprows=[1,2,3,4,5], usecols=[2,4,7,8,11,12], header=1)\n",
    "            else:\n",
    "                df = pd.read_excel(filename, sheet_name=hoja_seleccionada, skiprows=[1,2,3,4,5,6,7], usecols=[2,4,7,8,11,12], header=1)\n",
    "        if (ano > 2013) and (ano < 2021):\n",
    "            df = pd.read_excel(filename, sheet_name=hoja_seleccionada, skiprows=[1,2,3,4,5,6], usecols=[2,4,7,8,11,12], header=1)\n",
    "        if (ano == 2021):\n",
    "            if (mes == \"Enero\") or (mes == \"Febrero\"):\n",
    "                df = pd.read_excel(filename, sheet_name=hoja_seleccionada, skiprows=[1,2,3,4,5,6], usecols=[2,4,7,8,11,12], header=1)\n",
    "            else:\n",
    "                df = pd.read_excel(filename, sheet_name=hoja_seleccionada, skiprows=[1,2,3,4,5,6], usecols=[2,3,7,8,12,13], header=1)\n",
    "        if (ano > 2021):\n",
    "            df = pd.read_excel(filename, sheet_name=hoja_seleccionada, skiprows=[1,2,3,4,5,6], usecols=[2,3,7,8,11,12], header=1)\n",
    "        \n",
    "        df_pasajeros = df[df.columns[0:2]].copy()\n",
    "        df_pasajeros = df_pasajeros.set_index(df_pasajeros.columns[0])\n",
    "        df_pasajeros.index.name = 'Aeropuerto'\n",
    "        df_pasajeros = df_pasajeros[df_pasajeros.index.notnull()]\n",
    "        \n",
    "        df_operaciones = df[df.columns[2:4]].copy()\n",
    "        df_operaciones = df_operaciones.set_index(df_operaciones.columns[0])\n",
    "        df_operaciones.index.name = 'Aeropuerto'\n",
    "        df_operaciones = df_operaciones[df_operaciones.index.notnull()]\n",
    "        \n",
    "        df_mercancias = df[df.columns[4:6]].copy()\n",
    "        df_mercancias = df_mercancias.set_index(df_mercancias.columns[0])\n",
    "        df_mercancias.index.name = 'Aeropuerto'\n",
    "        df_mercancias = df_mercancias[df_mercancias.index.notnull()]\n",
    "        \n",
    "        for index, row in df_pasajeros.iterrows():\n",
    "            index = index.strip()\n",
    "            if (index in aeropuertos_.keys()):\n",
    "                if type(row.iloc[0]) == numpy.float64:\n",
    "                    valor = int(row.iloc[0].astype(int))\n",
    "                if type(row.iloc[0]) == float:\n",
    "                    valor = int(row.iloc[0])\n",
    "                if type(row.iloc[0]) == str:\n",
    "                    valor = 0\n",
    "                if type(row.iloc[0]) == int:\n",
    "                    valor = int(row.iloc[0])\n",
    "                df_AENA_pasajeros.loc[(ano,mes),aeropuertos_[index]] = valor\n",
    "        \n",
    "        for index, row in df_operaciones.iterrows():\n",
    "            index = index.strip()\n",
    "            if (index in aeropuertos_.keys()):\n",
    "                #print(type(row.iloc[0]))\n",
    "                if type(row.iloc[0]) == numpy.float64:\n",
    "                    valor = int(row.iloc[0].astype(int))\n",
    "                if type(row.iloc[0]) == float:\n",
    "                    valor = int(row.iloc[0])\n",
    "                if type(row.iloc[0]) == str:\n",
    "                    valor = 0\n",
    "                if type(row.iloc[0]) == int:\n",
    "                    valor = int(row.iloc[0])\n",
    "                df_AENA_operaciones.loc[(ano,mes),aeropuertos_[index]] = valor\n",
    "\n",
    "        for index, row in df_mercancias.iterrows():\n",
    "            index = index.strip()\n",
    "            if (index in aeropuertos_.keys()):\n",
    "                #print(type(row.iloc[0]))\n",
    "                if type(row.iloc[0]) == numpy.float64:\n",
    "                    valor = int(row.iloc[0].astype(int))\n",
    "                if type(row.iloc[0]) == float:\n",
    "                    valor = int(row.iloc[0])\n",
    "                if type(row.iloc[0]) == str:\n",
    "                    valor = 0\n",
    "                if type(row.iloc[0]) == int:\n",
    "                    valor = int(row.iloc[0])\n",
    "                df_AENA_mercancias.loc[(ano,mes),aeropuertos_[index]] = valor        "
   ]
  },
  {
   "cell_type": "code",
   "execution_count": null,
   "metadata": {},
   "outputs": [],
   "source": [
    "display(df_AENA_pasajeros)"
   ]
  },
  {
   "cell_type": "code",
   "execution_count": null,
   "metadata": {},
   "outputs": [],
   "source": [
    "display(df_AENA_operaciones)"
   ]
  },
  {
   "cell_type": "code",
   "execution_count": null,
   "metadata": {},
   "outputs": [],
   "source": [
    "display(df_AENA_mercancias)"
   ]
  },
  {
   "cell_type": "code",
   "execution_count": null,
   "metadata": {},
   "outputs": [],
   "source": [
    "#DELETE 'aena_temp.xls'\n",
    "os.remove(\"aena_temp.xls\")"
   ]
  },
  {
   "cell_type": "code",
   "execution_count": null,
   "metadata": {},
   "outputs": [],
   "source": [
    "#display(df_AENA_operaciones.loc[[2020,2021]])\n",
    "#display(df_AENA_operaciones.index)\n",
    "#display(df_AENA_pasajeros.loc[(2019,\"Enero\")])\n",
    "#display(df_AENA_pasajeros)"
   ]
  },
  {
   "cell_type": "code",
   "execution_count": null,
   "metadata": {},
   "outputs": [],
   "source": [
    "#Exportamos el dataframe de Mercabilbao a un Pickle\n",
    "pd.to_pickle(df_AENA_pasajeros, \"./raw_df_AENA_pasajeros.pkl\")\n",
    "pd.to_pickle(df_AENA_operaciones, \"./raw_df_AENA_operaciones.pkl\")\n",
    "pd.to_pickle(df_AENA_mercancias, \"./raw_df_AENA_mercancias.pkl\")"
   ]
  },
  {
   "cell_type": "code",
   "execution_count": null,
   "metadata": {},
   "outputs": [],
   "source": [
    "df_AENA_pasajeros.to_csv(\"pasajeros.csv\")\n",
    "df_AENA_operaciones.to_csv(\"operaciones.csv\")\n",
    "df_AENA_mercancias.to_csv(\"mercancias.csv\")"
   ]
  },
  {
   "cell_type": "code",
   "execution_count": null,
   "metadata": {},
   "outputs": [],
   "source": [
    "#display(list(df_AENA_pasajeros.columns))\n",
    "display(list(df_AENA_pasajeros.index))\n",
    "display(df_AENA_pasajeros[\"MAD\"].loc[(2019,\"Enero\")])\n",
    "display(df_AENA_operaciones[\"MAD\"].loc[(2019,\"Enero\")])\n",
    "display(int(df_AENA_mercancias[\"MAD\"].loc[(2019,\"Enero\")]))"
   ]
  },
  {
   "cell_type": "code",
   "execution_count": null,
   "metadata": {},
   "outputs": [],
   "source": []
  }
 ],
 "metadata": {
  "kernelspec": {
   "display_name": "Python 3",
   "language": "python",
   "name": "python3"
  },
  "language_info": {
   "codemirror_mode": {
    "name": "ipython",
    "version": 3
   },
   "file_extension": ".py",
   "mimetype": "text/x-python",
   "name": "python",
   "nbconvert_exporter": "python",
   "pygments_lexer": "ipython3",
   "version": "3.8.8"
  }
 },
 "nbformat": 4,
 "nbformat_minor": 4
}
